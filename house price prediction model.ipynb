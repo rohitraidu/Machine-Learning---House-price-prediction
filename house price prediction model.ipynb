{
 "cells": [
  {
   "cell_type": "code",
   "execution_count": 1,
   "id": "edda3e1b-d39a-4d1c-8069-281d719bd8f5",
   "metadata": {},
   "outputs": [],
   "source": [
    "import numpy as np \n",
    "import pandas as pd"
   ]
  },
  {
   "cell_type": "code",
   "execution_count": 32,
   "id": "6d8bc5fc-4845-4087-846e-32eac383749f",
   "metadata": {},
   "outputs": [],
   "source": [
    "df = pd.read_csv(r'C:\\Users\\admin\\Desktop\\PBi and PYTh\\HousePricePrediction_Complex.csv')"
   ]
  },
  {
   "cell_type": "code",
   "execution_count": 33,
   "id": "0173edc8-0368-4b3a-aa55-9f8288d6f661",
   "metadata": {},
   "outputs": [
    {
     "data": {
      "text/html": [
       "<div>\n",
       "<style scoped>\n",
       "    .dataframe tbody tr th:only-of-type {\n",
       "        vertical-align: middle;\n",
       "    }\n",
       "\n",
       "    .dataframe tbody tr th {\n",
       "        vertical-align: top;\n",
       "    }\n",
       "\n",
       "    .dataframe thead th {\n",
       "        text-align: right;\n",
       "    }\n",
       "</style>\n",
       "<table border=\"1\" class=\"dataframe\">\n",
       "  <thead>\n",
       "    <tr style=\"text-align: right;\">\n",
       "      <th></th>\n",
       "      <th>Id</th>\n",
       "      <th>MSSubClass</th>\n",
       "      <th>LotArea</th>\n",
       "      <th>OverallCond</th>\n",
       "      <th>YearBuilt</th>\n",
       "      <th>YearRemodAdd</th>\n",
       "      <th>BsmtFinSF2</th>\n",
       "      <th>TotalBsmtSF</th>\n",
       "      <th>SalePrice</th>\n",
       "      <th>Age</th>\n",
       "      <th>...</th>\n",
       "      <th>Exterior1st_CemntBd</th>\n",
       "      <th>Exterior1st_HdBoard</th>\n",
       "      <th>Exterior1st_ImStucc</th>\n",
       "      <th>Exterior1st_MetalSd</th>\n",
       "      <th>Exterior1st_Plywood</th>\n",
       "      <th>Exterior1st_Stone</th>\n",
       "      <th>Exterior1st_Stucco</th>\n",
       "      <th>Exterior1st_VinylSd</th>\n",
       "      <th>Exterior1st_Wd Sdng</th>\n",
       "      <th>Exterior1st_WdShing</th>\n",
       "    </tr>\n",
       "  </thead>\n",
       "  <tbody>\n",
       "    <tr>\n",
       "      <th>0</th>\n",
       "      <td>0</td>\n",
       "      <td>60</td>\n",
       "      <td>8450.0</td>\n",
       "      <td>5</td>\n",
       "      <td>2003</td>\n",
       "      <td>2003</td>\n",
       "      <td>0.0</td>\n",
       "      <td>885.114076</td>\n",
       "      <td>208500.0</td>\n",
       "      <td>21</td>\n",
       "      <td>...</td>\n",
       "      <td>0</td>\n",
       "      <td>0</td>\n",
       "      <td>0</td>\n",
       "      <td>0</td>\n",
       "      <td>0</td>\n",
       "      <td>0</td>\n",
       "      <td>0</td>\n",
       "      <td>1</td>\n",
       "      <td>0</td>\n",
       "      <td>0</td>\n",
       "    </tr>\n",
       "    <tr>\n",
       "      <th>1</th>\n",
       "      <td>1</td>\n",
       "      <td>20</td>\n",
       "      <td>9600.0</td>\n",
       "      <td>8</td>\n",
       "      <td>1976</td>\n",
       "      <td>1976</td>\n",
       "      <td>0.0</td>\n",
       "      <td>1193.540530</td>\n",
       "      <td>181500.0</td>\n",
       "      <td>48</td>\n",
       "      <td>...</td>\n",
       "      <td>0</td>\n",
       "      <td>0</td>\n",
       "      <td>0</td>\n",
       "      <td>1</td>\n",
       "      <td>0</td>\n",
       "      <td>0</td>\n",
       "      <td>0</td>\n",
       "      <td>0</td>\n",
       "      <td>0</td>\n",
       "      <td>0</td>\n",
       "    </tr>\n",
       "    <tr>\n",
       "      <th>2</th>\n",
       "      <td>2</td>\n",
       "      <td>60</td>\n",
       "      <td>11250.0</td>\n",
       "      <td>5</td>\n",
       "      <td>2001</td>\n",
       "      <td>2002</td>\n",
       "      <td>0.0</td>\n",
       "      <td>822.690160</td>\n",
       "      <td>223500.0</td>\n",
       "      <td>23</td>\n",
       "      <td>...</td>\n",
       "      <td>0</td>\n",
       "      <td>0</td>\n",
       "      <td>0</td>\n",
       "      <td>0</td>\n",
       "      <td>0</td>\n",
       "      <td>0</td>\n",
       "      <td>0</td>\n",
       "      <td>1</td>\n",
       "      <td>0</td>\n",
       "      <td>0</td>\n",
       "    </tr>\n",
       "    <tr>\n",
       "      <th>3</th>\n",
       "      <td>3</td>\n",
       "      <td>70</td>\n",
       "      <td>9550.0</td>\n",
       "      <td>5</td>\n",
       "      <td>1915</td>\n",
       "      <td>1970</td>\n",
       "      <td>0.0</td>\n",
       "      <td>752.899234</td>\n",
       "      <td>140000.0</td>\n",
       "      <td>109</td>\n",
       "      <td>...</td>\n",
       "      <td>0</td>\n",
       "      <td>0</td>\n",
       "      <td>0</td>\n",
       "      <td>0</td>\n",
       "      <td>0</td>\n",
       "      <td>0</td>\n",
       "      <td>0</td>\n",
       "      <td>0</td>\n",
       "      <td>1</td>\n",
       "      <td>0</td>\n",
       "    </tr>\n",
       "    <tr>\n",
       "      <th>4</th>\n",
       "      <td>4</td>\n",
       "      <td>60</td>\n",
       "      <td>14260.0</td>\n",
       "      <td>5</td>\n",
       "      <td>2000</td>\n",
       "      <td>2000</td>\n",
       "      <td>0.0</td>\n",
       "      <td>1039.372292</td>\n",
       "      <td>250000.0</td>\n",
       "      <td>24</td>\n",
       "      <td>...</td>\n",
       "      <td>0</td>\n",
       "      <td>0</td>\n",
       "      <td>0</td>\n",
       "      <td>0</td>\n",
       "      <td>0</td>\n",
       "      <td>0</td>\n",
       "      <td>0</td>\n",
       "      <td>1</td>\n",
       "      <td>0</td>\n",
       "      <td>0</td>\n",
       "    </tr>\n",
       "  </tbody>\n",
       "</table>\n",
       "<p>5 rows × 39 columns</p>\n",
       "</div>"
      ],
      "text/plain": [
       "   Id  MSSubClass  LotArea  OverallCond  YearBuilt  YearRemodAdd  BsmtFinSF2  \\\n",
       "0   0          60   8450.0            5       2003          2003         0.0   \n",
       "1   1          20   9600.0            8       1976          1976         0.0   \n",
       "2   2          60  11250.0            5       2001          2002         0.0   \n",
       "3   3          70   9550.0            5       1915          1970         0.0   \n",
       "4   4          60  14260.0            5       2000          2000         0.0   \n",
       "\n",
       "   TotalBsmtSF  SalePrice  Age  ...  Exterior1st_CemntBd  Exterior1st_HdBoard  \\\n",
       "0   885.114076   208500.0   21  ...                    0                    0   \n",
       "1  1193.540530   181500.0   48  ...                    0                    0   \n",
       "2   822.690160   223500.0   23  ...                    0                    0   \n",
       "3   752.899234   140000.0  109  ...                    0                    0   \n",
       "4  1039.372292   250000.0   24  ...                    0                    0   \n",
       "\n",
       "  Exterior1st_ImStucc  Exterior1st_MetalSd  Exterior1st_Plywood  \\\n",
       "0                   0                    0                    0   \n",
       "1                   0                    1                    0   \n",
       "2                   0                    0                    0   \n",
       "3                   0                    0                    0   \n",
       "4                   0                    0                    0   \n",
       "\n",
       "   Exterior1st_Stone  Exterior1st_Stucco  Exterior1st_VinylSd  \\\n",
       "0                  0                   0                    1   \n",
       "1                  0                   0                    0   \n",
       "2                  0                   0                    1   \n",
       "3                  0                   0                    0   \n",
       "4                  0                   0                    1   \n",
       "\n",
       "   Exterior1st_Wd Sdng  Exterior1st_WdShing  \n",
       "0                    0                    0  \n",
       "1                    0                    0  \n",
       "2                    0                    0  \n",
       "3                    1                    0  \n",
       "4                    0                    0  \n",
       "\n",
       "[5 rows x 39 columns]"
      ]
     },
     "execution_count": 33,
     "metadata": {},
     "output_type": "execute_result"
    }
   ],
   "source": [
    "df.head()"
   ]
  },
  {
   "cell_type": "code",
   "execution_count": 34,
   "id": "77924961-ef84-45ab-8cb5-259f8cda995a",
   "metadata": {},
   "outputs": [
    {
     "data": {
      "text/plain": [
       "(2919, 39)"
      ]
     },
     "execution_count": 34,
     "metadata": {},
     "output_type": "execute_result"
    }
   ],
   "source": [
    "df.shape"
   ]
  },
  {
   "cell_type": "code",
   "execution_count": 35,
   "id": "9d0a9cfe-9e51-4269-b356-cdec21cc9548",
   "metadata": {
    "scrolled": true
   },
   "outputs": [
    {
     "data": {
      "text/plain": [
       "Id                         0\n",
       "MSSubClass                 0\n",
       "LotArea                  291\n",
       "OverallCond                0\n",
       "YearBuilt                  0\n",
       "YearRemodAdd               0\n",
       "BsmtFinSF2                 1\n",
       "TotalBsmtSF                1\n",
       "SalePrice               1459\n",
       "Age                        0\n",
       "Remodeled                  0\n",
       "TotalRooms                 0\n",
       "ZoningLotInteraction       0\n",
       "MSZoning_FV                0\n",
       "MSZoning_RH                0\n",
       "MSZoning_RL                0\n",
       "MSZoning_RM                0\n",
       "LotConfig_CulDSac          0\n",
       "LotConfig_FR2              0\n",
       "LotConfig_FR3              0\n",
       "LotConfig_Inside           0\n",
       "BldgType_2fmCon            0\n",
       "BldgType_Duplex            0\n",
       "BldgType_Twnhs             0\n",
       "BldgType_TwnhsE            0\n",
       "Exterior1st_AsphShn        0\n",
       "Exterior1st_BrkComm        0\n",
       "Exterior1st_BrkFace        0\n",
       "Exterior1st_CBlock         0\n",
       "Exterior1st_CemntBd        0\n",
       "Exterior1st_HdBoard        0\n",
       "Exterior1st_ImStucc        0\n",
       "Exterior1st_MetalSd        0\n",
       "Exterior1st_Plywood        0\n",
       "Exterior1st_Stone          0\n",
       "Exterior1st_Stucco         0\n",
       "Exterior1st_VinylSd        0\n",
       "Exterior1st_Wd Sdng        0\n",
       "Exterior1st_WdShing        0\n",
       "dtype: int64"
      ]
     },
     "execution_count": 35,
     "metadata": {},
     "output_type": "execute_result"
    }
   ],
   "source": [
    "df.isna().sum()"
   ]
  },
  {
   "cell_type": "code",
   "execution_count": 36,
   "id": "114aa9d2-5b04-40fa-bd1e-eee98f5d8055",
   "metadata": {},
   "outputs": [],
   "source": [
    "df['LotArea'] = df['LotArea'].fillna(df['LotArea'].mean())"
   ]
  },
  {
   "cell_type": "code",
   "execution_count": 37,
   "id": "0577de17-e1ec-4075-a936-d16504a422df",
   "metadata": {},
   "outputs": [],
   "source": [
    "df['SalePrice'] = df['SalePrice'].fillna(df['SalePrice'].mean())"
   ]
  },
  {
   "cell_type": "code",
   "execution_count": 38,
   "id": "11c5291a-2f55-44fd-8eca-1b349f3ecf86",
   "metadata": {},
   "outputs": [],
   "source": [
    "df =df.fillna(0)"
   ]
  },
  {
   "cell_type": "code",
   "execution_count": 39,
   "id": "c7a22651-c369-44ea-becc-dbf99e3a7351",
   "metadata": {
    "scrolled": true
   },
   "outputs": [
    {
     "data": {
      "text/plain": [
       "Id                      0\n",
       "MSSubClass              0\n",
       "LotArea                 0\n",
       "OverallCond             0\n",
       "YearBuilt               0\n",
       "YearRemodAdd            0\n",
       "BsmtFinSF2              0\n",
       "TotalBsmtSF             0\n",
       "SalePrice               0\n",
       "Age                     0\n",
       "Remodeled               0\n",
       "TotalRooms              0\n",
       "ZoningLotInteraction    0\n",
       "MSZoning_FV             0\n",
       "MSZoning_RH             0\n",
       "MSZoning_RL             0\n",
       "MSZoning_RM             0\n",
       "LotConfig_CulDSac       0\n",
       "LotConfig_FR2           0\n",
       "LotConfig_FR3           0\n",
       "LotConfig_Inside        0\n",
       "BldgType_2fmCon         0\n",
       "BldgType_Duplex         0\n",
       "BldgType_Twnhs          0\n",
       "BldgType_TwnhsE         0\n",
       "Exterior1st_AsphShn     0\n",
       "Exterior1st_BrkComm     0\n",
       "Exterior1st_BrkFace     0\n",
       "Exterior1st_CBlock      0\n",
       "Exterior1st_CemntBd     0\n",
       "Exterior1st_HdBoard     0\n",
       "Exterior1st_ImStucc     0\n",
       "Exterior1st_MetalSd     0\n",
       "Exterior1st_Plywood     0\n",
       "Exterior1st_Stone       0\n",
       "Exterior1st_Stucco      0\n",
       "Exterior1st_VinylSd     0\n",
       "Exterior1st_Wd Sdng     0\n",
       "Exterior1st_WdShing     0\n",
       "dtype: int64"
      ]
     },
     "execution_count": 39,
     "metadata": {},
     "output_type": "execute_result"
    }
   ],
   "source": [
    "df.isna().sum()"
   ]
  },
  {
   "cell_type": "code",
   "execution_count": 40,
   "id": "48b2f29d-11e8-4cb4-877a-8e232775fed7",
   "metadata": {},
   "outputs": [],
   "source": [
    "from sklearn.preprocessing import StandardScaler, OneHotEncoder"
   ]
  },
  {
   "cell_type": "code",
   "execution_count": 41,
   "id": "cd5464d2-6ef5-480b-b2c2-e785e7843649",
   "metadata": {},
   "outputs": [
    {
     "name": "stderr",
     "output_type": "stream",
     "text": [
      "C:\\Users\\admin\\anaconda3\\Lib\\site-packages\\sklearn\\preprocessing\\_encoders.py:868: FutureWarning: `sparse` was renamed to `sparse_output` in version 1.2 and will be removed in 1.4. `sparse_output` is ignored unless you leave `sparse` to its default value.\n",
      "  warnings.warn(\n"
     ]
    }
   ],
   "source": [
    "# OneHotEncoder\n",
    "encoder = OneHotEncoder(handle_unknown='ignore', sparse=False)\n",
    "\n",
    "# Fit and transform the 'ZoningLotInteraction' column\n",
    "df_encoded = pd.DataFrame(encoder.fit_transform(df[['ZoningLotInteraction']]),\n",
    "                          columns=encoder.get_feature_names_out(['ZoningLotInteraction']))\n",
    "\n",
    "# Concatenate the encoded DataFrame with the original DataFrame\n",
    "df = pd.concat([df.drop('ZoningLotInteraction', axis=1), df_encoded], axis=1)"
   ]
  },
  {
   "cell_type": "code",
   "execution_count": 42,
   "id": "edca63b9-f3f0-42dd-8036-0fa83aed65b1",
   "metadata": {},
   "outputs": [],
   "source": [
    "# Normalize the feature set\n",
    "scaler = StandardScaler()\n",
    "df_scaled = scaler.fit_transform(df)"
   ]
  },
  {
   "cell_type": "code",
   "execution_count": 43,
   "id": "93d3094c-125a-4db8-9252-2074b5f22326",
   "metadata": {},
   "outputs": [
    {
     "data": {
      "text/html": [
       "<div>\n",
       "<style scoped>\n",
       "    .dataframe tbody tr th:only-of-type {\n",
       "        vertical-align: middle;\n",
       "    }\n",
       "\n",
       "    .dataframe tbody tr th {\n",
       "        vertical-align: top;\n",
       "    }\n",
       "\n",
       "    .dataframe thead th {\n",
       "        text-align: right;\n",
       "    }\n",
       "</style>\n",
       "<table border=\"1\" class=\"dataframe\">\n",
       "  <thead>\n",
       "    <tr style=\"text-align: right;\">\n",
       "      <th></th>\n",
       "      <th>Id</th>\n",
       "      <th>MSSubClass</th>\n",
       "      <th>LotArea</th>\n",
       "      <th>OverallCond</th>\n",
       "      <th>YearBuilt</th>\n",
       "      <th>YearRemodAdd</th>\n",
       "      <th>BsmtFinSF2</th>\n",
       "      <th>TotalBsmtSF</th>\n",
       "      <th>SalePrice</th>\n",
       "      <th>Age</th>\n",
       "      <th>...</th>\n",
       "      <th>ZoningLotInteraction_RL_CulDSac</th>\n",
       "      <th>ZoningLotInteraction_RL_FR2</th>\n",
       "      <th>ZoningLotInteraction_RL_FR3</th>\n",
       "      <th>ZoningLotInteraction_RL_Inside</th>\n",
       "      <th>ZoningLotInteraction_RM_Corner</th>\n",
       "      <th>ZoningLotInteraction_RM_CulDSac</th>\n",
       "      <th>ZoningLotInteraction_RM_FR2</th>\n",
       "      <th>ZoningLotInteraction_RM_FR3</th>\n",
       "      <th>ZoningLotInteraction_RM_Inside</th>\n",
       "      <th>ZoningLotInteraction_nan_Inside</th>\n",
       "    </tr>\n",
       "  </thead>\n",
       "  <tbody>\n",
       "    <tr>\n",
       "      <th>0</th>\n",
       "      <td>0</td>\n",
       "      <td>60</td>\n",
       "      <td>8450.0</td>\n",
       "      <td>5</td>\n",
       "      <td>2003</td>\n",
       "      <td>2003</td>\n",
       "      <td>0.0</td>\n",
       "      <td>885.114076</td>\n",
       "      <td>208500.0</td>\n",
       "      <td>21</td>\n",
       "      <td>...</td>\n",
       "      <td>0.0</td>\n",
       "      <td>0.0</td>\n",
       "      <td>0.0</td>\n",
       "      <td>1.0</td>\n",
       "      <td>0.0</td>\n",
       "      <td>0.0</td>\n",
       "      <td>0.0</td>\n",
       "      <td>0.0</td>\n",
       "      <td>0.0</td>\n",
       "      <td>0.0</td>\n",
       "    </tr>\n",
       "  </tbody>\n",
       "</table>\n",
       "<p>1 rows × 59 columns</p>\n",
       "</div>"
      ],
      "text/plain": [
       "   Id  MSSubClass  LotArea  OverallCond  YearBuilt  YearRemodAdd  BsmtFinSF2  \\\n",
       "0   0          60   8450.0            5       2003          2003         0.0   \n",
       "\n",
       "   TotalBsmtSF  SalePrice  Age  ...  ZoningLotInteraction_RL_CulDSac  \\\n",
       "0   885.114076   208500.0   21  ...                              0.0   \n",
       "\n",
       "   ZoningLotInteraction_RL_FR2  ZoningLotInteraction_RL_FR3  \\\n",
       "0                          0.0                          0.0   \n",
       "\n",
       "   ZoningLotInteraction_RL_Inside  ZoningLotInteraction_RM_Corner  \\\n",
       "0                             1.0                             0.0   \n",
       "\n",
       "   ZoningLotInteraction_RM_CulDSac  ZoningLotInteraction_RM_FR2  \\\n",
       "0                              0.0                          0.0   \n",
       "\n",
       "   ZoningLotInteraction_RM_FR3  ZoningLotInteraction_RM_Inside  \\\n",
       "0                          0.0                             0.0   \n",
       "\n",
       "   ZoningLotInteraction_nan_Inside  \n",
       "0                              0.0  \n",
       "\n",
       "[1 rows x 59 columns]"
      ]
     },
     "execution_count": 43,
     "metadata": {},
     "output_type": "execute_result"
    }
   ],
   "source": [
    "df.head(1)"
   ]
  },
  {
   "cell_type": "code",
   "execution_count": 44,
   "id": "cde0091c-5427-440f-8366-88ddae24b93c",
   "metadata": {},
   "outputs": [],
   "source": [
    "from sklearn.model_selection import train_test_split, GridSearchCV, cross_val_score\n",
    "from sklearn.linear_model import LinearRegression\n",
    "from sklearn.tree import DecisionTreeRegressor\n",
    "from sklearn.ensemble import RandomForestRegressor\n",
    "from sklearn.metrics import mean_squared_error, r2_score"
   ]
  },
  {
   "cell_type": "code",
   "execution_count": 45,
   "id": "97163dfb-f9fb-4613-a842-3ffcb8bc31e0",
   "metadata": {},
   "outputs": [],
   "source": [
    "x = df.drop(['SalePrice', 'Id'],axis =1)\n",
    "y = df['SalePrice']"
   ]
  },
  {
   "cell_type": "code",
   "execution_count": 46,
   "id": "7db51675-3d5d-418b-9f58-4dadba388592",
   "metadata": {},
   "outputs": [
    {
     "data": {
      "text/html": [
       "<div>\n",
       "<style scoped>\n",
       "    .dataframe tbody tr th:only-of-type {\n",
       "        vertical-align: middle;\n",
       "    }\n",
       "\n",
       "    .dataframe tbody tr th {\n",
       "        vertical-align: top;\n",
       "    }\n",
       "\n",
       "    .dataframe thead th {\n",
       "        text-align: right;\n",
       "    }\n",
       "</style>\n",
       "<table border=\"1\" class=\"dataframe\">\n",
       "  <thead>\n",
       "    <tr style=\"text-align: right;\">\n",
       "      <th></th>\n",
       "      <th>MSSubClass</th>\n",
       "      <th>LotArea</th>\n",
       "      <th>OverallCond</th>\n",
       "      <th>YearBuilt</th>\n",
       "      <th>YearRemodAdd</th>\n",
       "      <th>BsmtFinSF2</th>\n",
       "      <th>TotalBsmtSF</th>\n",
       "      <th>Age</th>\n",
       "      <th>Remodeled</th>\n",
       "      <th>TotalRooms</th>\n",
       "      <th>...</th>\n",
       "      <th>ZoningLotInteraction_RL_CulDSac</th>\n",
       "      <th>ZoningLotInteraction_RL_FR2</th>\n",
       "      <th>ZoningLotInteraction_RL_FR3</th>\n",
       "      <th>ZoningLotInteraction_RL_Inside</th>\n",
       "      <th>ZoningLotInteraction_RM_Corner</th>\n",
       "      <th>ZoningLotInteraction_RM_CulDSac</th>\n",
       "      <th>ZoningLotInteraction_RM_FR2</th>\n",
       "      <th>ZoningLotInteraction_RM_FR3</th>\n",
       "      <th>ZoningLotInteraction_RM_Inside</th>\n",
       "      <th>ZoningLotInteraction_nan_Inside</th>\n",
       "    </tr>\n",
       "  </thead>\n",
       "  <tbody>\n",
       "    <tr>\n",
       "      <th>0</th>\n",
       "      <td>60</td>\n",
       "      <td>8450.0</td>\n",
       "      <td>5</td>\n",
       "      <td>2003</td>\n",
       "      <td>2003</td>\n",
       "      <td>0.0</td>\n",
       "      <td>885.114076</td>\n",
       "      <td>21</td>\n",
       "      <td>0</td>\n",
       "      <td>10</td>\n",
       "      <td>...</td>\n",
       "      <td>0.0</td>\n",
       "      <td>0.0</td>\n",
       "      <td>0.0</td>\n",
       "      <td>1.0</td>\n",
       "      <td>0.0</td>\n",
       "      <td>0.0</td>\n",
       "      <td>0.0</td>\n",
       "      <td>0.0</td>\n",
       "      <td>0.0</td>\n",
       "      <td>0.0</td>\n",
       "    </tr>\n",
       "    <tr>\n",
       "      <th>1</th>\n",
       "      <td>20</td>\n",
       "      <td>9600.0</td>\n",
       "      <td>8</td>\n",
       "      <td>1976</td>\n",
       "      <td>1976</td>\n",
       "      <td>0.0</td>\n",
       "      <td>1193.540530</td>\n",
       "      <td>48</td>\n",
       "      <td>0</td>\n",
       "      <td>12</td>\n",
       "      <td>...</td>\n",
       "      <td>0.0</td>\n",
       "      <td>1.0</td>\n",
       "      <td>0.0</td>\n",
       "      <td>0.0</td>\n",
       "      <td>0.0</td>\n",
       "      <td>0.0</td>\n",
       "      <td>0.0</td>\n",
       "      <td>0.0</td>\n",
       "      <td>0.0</td>\n",
       "      <td>0.0</td>\n",
       "    </tr>\n",
       "    <tr>\n",
       "      <th>2</th>\n",
       "      <td>60</td>\n",
       "      <td>11250.0</td>\n",
       "      <td>5</td>\n",
       "      <td>2001</td>\n",
       "      <td>2002</td>\n",
       "      <td>0.0</td>\n",
       "      <td>822.690160</td>\n",
       "      <td>23</td>\n",
       "      <td>1</td>\n",
       "      <td>8</td>\n",
       "      <td>...</td>\n",
       "      <td>0.0</td>\n",
       "      <td>0.0</td>\n",
       "      <td>0.0</td>\n",
       "      <td>1.0</td>\n",
       "      <td>0.0</td>\n",
       "      <td>0.0</td>\n",
       "      <td>0.0</td>\n",
       "      <td>0.0</td>\n",
       "      <td>0.0</td>\n",
       "      <td>0.0</td>\n",
       "    </tr>\n",
       "    <tr>\n",
       "      <th>3</th>\n",
       "      <td>70</td>\n",
       "      <td>9550.0</td>\n",
       "      <td>5</td>\n",
       "      <td>1915</td>\n",
       "      <td>1970</td>\n",
       "      <td>0.0</td>\n",
       "      <td>752.899234</td>\n",
       "      <td>109</td>\n",
       "      <td>1</td>\n",
       "      <td>14</td>\n",
       "      <td>...</td>\n",
       "      <td>0.0</td>\n",
       "      <td>0.0</td>\n",
       "      <td>0.0</td>\n",
       "      <td>0.0</td>\n",
       "      <td>0.0</td>\n",
       "      <td>0.0</td>\n",
       "      <td>0.0</td>\n",
       "      <td>0.0</td>\n",
       "      <td>0.0</td>\n",
       "      <td>0.0</td>\n",
       "    </tr>\n",
       "    <tr>\n",
       "      <th>4</th>\n",
       "      <td>60</td>\n",
       "      <td>14260.0</td>\n",
       "      <td>5</td>\n",
       "      <td>2000</td>\n",
       "      <td>2000</td>\n",
       "      <td>0.0</td>\n",
       "      <td>1039.372292</td>\n",
       "      <td>24</td>\n",
       "      <td>0</td>\n",
       "      <td>8</td>\n",
       "      <td>...</td>\n",
       "      <td>0.0</td>\n",
       "      <td>1.0</td>\n",
       "      <td>0.0</td>\n",
       "      <td>0.0</td>\n",
       "      <td>0.0</td>\n",
       "      <td>0.0</td>\n",
       "      <td>0.0</td>\n",
       "      <td>0.0</td>\n",
       "      <td>0.0</td>\n",
       "      <td>0.0</td>\n",
       "    </tr>\n",
       "  </tbody>\n",
       "</table>\n",
       "<p>5 rows × 57 columns</p>\n",
       "</div>"
      ],
      "text/plain": [
       "   MSSubClass  LotArea  OverallCond  YearBuilt  YearRemodAdd  BsmtFinSF2  \\\n",
       "0          60   8450.0            5       2003          2003         0.0   \n",
       "1          20   9600.0            8       1976          1976         0.0   \n",
       "2          60  11250.0            5       2001          2002         0.0   \n",
       "3          70   9550.0            5       1915          1970         0.0   \n",
       "4          60  14260.0            5       2000          2000         0.0   \n",
       "\n",
       "   TotalBsmtSF  Age  Remodeled  TotalRooms  ...  \\\n",
       "0   885.114076   21          0          10  ...   \n",
       "1  1193.540530   48          0          12  ...   \n",
       "2   822.690160   23          1           8  ...   \n",
       "3   752.899234  109          1          14  ...   \n",
       "4  1039.372292   24          0           8  ...   \n",
       "\n",
       "   ZoningLotInteraction_RL_CulDSac  ZoningLotInteraction_RL_FR2  \\\n",
       "0                              0.0                          0.0   \n",
       "1                              0.0                          1.0   \n",
       "2                              0.0                          0.0   \n",
       "3                              0.0                          0.0   \n",
       "4                              0.0                          1.0   \n",
       "\n",
       "   ZoningLotInteraction_RL_FR3  ZoningLotInteraction_RL_Inside  \\\n",
       "0                          0.0                             1.0   \n",
       "1                          0.0                             0.0   \n",
       "2                          0.0                             1.0   \n",
       "3                          0.0                             0.0   \n",
       "4                          0.0                             0.0   \n",
       "\n",
       "   ZoningLotInteraction_RM_Corner  ZoningLotInteraction_RM_CulDSac  \\\n",
       "0                             0.0                              0.0   \n",
       "1                             0.0                              0.0   \n",
       "2                             0.0                              0.0   \n",
       "3                             0.0                              0.0   \n",
       "4                             0.0                              0.0   \n",
       "\n",
       "   ZoningLotInteraction_RM_FR2  ZoningLotInteraction_RM_FR3  \\\n",
       "0                          0.0                          0.0   \n",
       "1                          0.0                          0.0   \n",
       "2                          0.0                          0.0   \n",
       "3                          0.0                          0.0   \n",
       "4                          0.0                          0.0   \n",
       "\n",
       "   ZoningLotInteraction_RM_Inside  ZoningLotInteraction_nan_Inside  \n",
       "0                             0.0                              0.0  \n",
       "1                             0.0                              0.0  \n",
       "2                             0.0                              0.0  \n",
       "3                             0.0                              0.0  \n",
       "4                             0.0                              0.0  \n",
       "\n",
       "[5 rows x 57 columns]"
      ]
     },
     "execution_count": 46,
     "metadata": {},
     "output_type": "execute_result"
    }
   ],
   "source": [
    "x.head()"
   ]
  },
  {
   "cell_type": "code",
   "execution_count": 47,
   "id": "1523c01f-95e6-44bc-b989-1d8518a1c6f1",
   "metadata": {},
   "outputs": [
    {
     "data": {
      "text/plain": [
       "0    208500.0\n",
       "1    181500.0\n",
       "2    223500.0\n",
       "3    140000.0\n",
       "4    250000.0\n",
       "Name: SalePrice, dtype: float64"
      ]
     },
     "execution_count": 47,
     "metadata": {},
     "output_type": "execute_result"
    }
   ],
   "source": [
    "y.head()"
   ]
  },
  {
   "cell_type": "code",
   "execution_count": 48,
   "id": "a6b7e8a0-5ce3-48a7-a996-0978c9e43821",
   "metadata": {},
   "outputs": [],
   "source": [
    "x_train,x_test,y_train,y_test = train_test_split(x,y,test_size=0.2,random_state=42)"
   ]
  },
  {
   "cell_type": "code",
   "execution_count": 49,
   "id": "23d9096a-04e6-40b2-8fae-7eb696cb811f",
   "metadata": {},
   "outputs": [
    {
     "data": {
      "text/html": [
       "<style>#sk-container-id-4 {color: black;background-color: white;}#sk-container-id-4 pre{padding: 0;}#sk-container-id-4 div.sk-toggleable {background-color: white;}#sk-container-id-4 label.sk-toggleable__label {cursor: pointer;display: block;width: 100%;margin-bottom: 0;padding: 0.3em;box-sizing: border-box;text-align: center;}#sk-container-id-4 label.sk-toggleable__label-arrow:before {content: \"▸\";float: left;margin-right: 0.25em;color: #696969;}#sk-container-id-4 label.sk-toggleable__label-arrow:hover:before {color: black;}#sk-container-id-4 div.sk-estimator:hover label.sk-toggleable__label-arrow:before {color: black;}#sk-container-id-4 div.sk-toggleable__content {max-height: 0;max-width: 0;overflow: hidden;text-align: left;background-color: #f0f8ff;}#sk-container-id-4 div.sk-toggleable__content pre {margin: 0.2em;color: black;border-radius: 0.25em;background-color: #f0f8ff;}#sk-container-id-4 input.sk-toggleable__control:checked~div.sk-toggleable__content {max-height: 200px;max-width: 100%;overflow: auto;}#sk-container-id-4 input.sk-toggleable__control:checked~label.sk-toggleable__label-arrow:before {content: \"▾\";}#sk-container-id-4 div.sk-estimator input.sk-toggleable__control:checked~label.sk-toggleable__label {background-color: #d4ebff;}#sk-container-id-4 div.sk-label input.sk-toggleable__control:checked~label.sk-toggleable__label {background-color: #d4ebff;}#sk-container-id-4 input.sk-hidden--visually {border: 0;clip: rect(1px 1px 1px 1px);clip: rect(1px, 1px, 1px, 1px);height: 1px;margin: -1px;overflow: hidden;padding: 0;position: absolute;width: 1px;}#sk-container-id-4 div.sk-estimator {font-family: monospace;background-color: #f0f8ff;border: 1px dotted black;border-radius: 0.25em;box-sizing: border-box;margin-bottom: 0.5em;}#sk-container-id-4 div.sk-estimator:hover {background-color: #d4ebff;}#sk-container-id-4 div.sk-parallel-item::after {content: \"\";width: 100%;border-bottom: 1px solid gray;flex-grow: 1;}#sk-container-id-4 div.sk-label:hover label.sk-toggleable__label {background-color: #d4ebff;}#sk-container-id-4 div.sk-serial::before {content: \"\";position: absolute;border-left: 1px solid gray;box-sizing: border-box;top: 0;bottom: 0;left: 50%;z-index: 0;}#sk-container-id-4 div.sk-serial {display: flex;flex-direction: column;align-items: center;background-color: white;padding-right: 0.2em;padding-left: 0.2em;position: relative;}#sk-container-id-4 div.sk-item {position: relative;z-index: 1;}#sk-container-id-4 div.sk-parallel {display: flex;align-items: stretch;justify-content: center;background-color: white;position: relative;}#sk-container-id-4 div.sk-item::before, #sk-container-id-4 div.sk-parallel-item::before {content: \"\";position: absolute;border-left: 1px solid gray;box-sizing: border-box;top: 0;bottom: 0;left: 50%;z-index: -1;}#sk-container-id-4 div.sk-parallel-item {display: flex;flex-direction: column;z-index: 1;position: relative;background-color: white;}#sk-container-id-4 div.sk-parallel-item:first-child::after {align-self: flex-end;width: 50%;}#sk-container-id-4 div.sk-parallel-item:last-child::after {align-self: flex-start;width: 50%;}#sk-container-id-4 div.sk-parallel-item:only-child::after {width: 0;}#sk-container-id-4 div.sk-dashed-wrapped {border: 1px dashed gray;margin: 0 0.4em 0.5em 0.4em;box-sizing: border-box;padding-bottom: 0.4em;background-color: white;}#sk-container-id-4 div.sk-label label {font-family: monospace;font-weight: bold;display: inline-block;line-height: 1.2em;}#sk-container-id-4 div.sk-label-container {text-align: center;}#sk-container-id-4 div.sk-container {/* jupyter's `normalize.less` sets `[hidden] { display: none; }` but bootstrap.min.css set `[hidden] { display: none !important; }` so we also need the `!important` here to be able to override the default hidden behavior on the sphinx rendered scikit-learn.org. See: https://github.com/scikit-learn/scikit-learn/issues/21755 */display: inline-block !important;position: relative;}#sk-container-id-4 div.sk-text-repr-fallback {display: none;}</style><div id=\"sk-container-id-4\" class=\"sk-top-container\"><div class=\"sk-text-repr-fallback\"><pre>LinearRegression()</pre><b>In a Jupyter environment, please rerun this cell to show the HTML representation or trust the notebook. <br />On GitHub, the HTML representation is unable to render, please try loading this page with nbviewer.org.</b></div><div class=\"sk-container\" hidden><div class=\"sk-item\"><div class=\"sk-estimator sk-toggleable\"><input class=\"sk-toggleable__control sk-hidden--visually\" id=\"sk-estimator-id-4\" type=\"checkbox\" checked><label for=\"sk-estimator-id-4\" class=\"sk-toggleable__label sk-toggleable__label-arrow\">LinearRegression</label><div class=\"sk-toggleable__content\"><pre>LinearRegression()</pre></div></div></div></div></div>"
      ],
      "text/plain": [
       "LinearRegression()"
      ]
     },
     "execution_count": 49,
     "metadata": {},
     "output_type": "execute_result"
    }
   ],
   "source": [
    "# linear regression\n",
    "lr_model = LinearRegression()\n",
    "lr_model.fit(x_train,y_train)"
   ]
  },
  {
   "cell_type": "code",
   "execution_count": 50,
   "id": "ee7c6580-7296-451a-bb51-70273b97ca29",
   "metadata": {},
   "outputs": [],
   "source": [
    "lr_pred = lr_model.predict(x_test)"
   ]
  },
  {
   "cell_type": "code",
   "execution_count": 51,
   "id": "bb62fddd-1679-4e1b-90ce-18a010e49c85",
   "metadata": {},
   "outputs": [],
   "source": [
    "# Evaluate the Linear Regression model\n",
    "lr_mse = mean_squared_error(y_test, lr_pred)\n",
    "lr_r2 = r2_score(y_test, lr_pred)"
   ]
  },
  {
   "cell_type": "code",
   "execution_count": 52,
   "id": "0aba2258-bd0a-4051-ad1f-4821ec37991e",
   "metadata": {},
   "outputs": [
    {
     "name": "stdout",
     "output_type": "stream",
     "text": [
      "\n",
      "Linear Regression Model Evaluation:\n",
      "Mean Squared Error: 2394172470.68\n",
      "R-squared: 0.33\n"
     ]
    }
   ],
   "source": [
    "print(\"\\nLinear Regression Model Evaluation:\")\n",
    "print(f\"Mean Squared Error: {lr_mse:.2f}\")\n",
    "print(f\"R-squared: {lr_r2:.2f}\")"
   ]
  },
  {
   "cell_type": "code",
   "execution_count": 53,
   "id": "d4dce6b8-a3fa-4fc7-bee0-f18e91cdfd00",
   "metadata": {},
   "outputs": [
    {
     "name": "stdout",
     "output_type": "stream",
     "text": [
      "\n",
      "Actual vs Predicted Sale Prices:\n",
      "            Actual      Predicted\n",
      "2437  180921.19589  162627.960436\n",
      "2470  180921.19589  194216.888697\n",
      "2359  180921.19589  152304.523560\n",
      "789   187500.00000  178531.446687\n",
      "1642  180921.19589  203125.544284\n",
      "196   311872.00000  233302.005589\n",
      "1543  180921.19589  141935.039758\n",
      "1270  260000.00000  183573.726877\n",
      "2473  180921.19589  127365.673089\n",
      "2073  180921.19589  178426.437634\n"
     ]
    }
   ],
   "source": [
    "# Display the first 10 predicted vs actual values for the tuned model\n",
    "comparison_df = pd.DataFrame({'Actual': y_test, 'Predicted': lr_pred})\n",
    "print(\"\\nActual vs Predicted Sale Prices:\")\n",
    "print(comparison_df.head(10))"
   ]
  },
  {
   "cell_type": "code",
   "execution_count": 54,
   "id": "2123cf59-ea0e-4948-b821-7cc604e0c80c",
   "metadata": {},
   "outputs": [
    {
     "data": {
      "text/html": [
       "<style>#sk-container-id-5 {color: black;background-color: white;}#sk-container-id-5 pre{padding: 0;}#sk-container-id-5 div.sk-toggleable {background-color: white;}#sk-container-id-5 label.sk-toggleable__label {cursor: pointer;display: block;width: 100%;margin-bottom: 0;padding: 0.3em;box-sizing: border-box;text-align: center;}#sk-container-id-5 label.sk-toggleable__label-arrow:before {content: \"▸\";float: left;margin-right: 0.25em;color: #696969;}#sk-container-id-5 label.sk-toggleable__label-arrow:hover:before {color: black;}#sk-container-id-5 div.sk-estimator:hover label.sk-toggleable__label-arrow:before {color: black;}#sk-container-id-5 div.sk-toggleable__content {max-height: 0;max-width: 0;overflow: hidden;text-align: left;background-color: #f0f8ff;}#sk-container-id-5 div.sk-toggleable__content pre {margin: 0.2em;color: black;border-radius: 0.25em;background-color: #f0f8ff;}#sk-container-id-5 input.sk-toggleable__control:checked~div.sk-toggleable__content {max-height: 200px;max-width: 100%;overflow: auto;}#sk-container-id-5 input.sk-toggleable__control:checked~label.sk-toggleable__label-arrow:before {content: \"▾\";}#sk-container-id-5 div.sk-estimator input.sk-toggleable__control:checked~label.sk-toggleable__label {background-color: #d4ebff;}#sk-container-id-5 div.sk-label input.sk-toggleable__control:checked~label.sk-toggleable__label {background-color: #d4ebff;}#sk-container-id-5 input.sk-hidden--visually {border: 0;clip: rect(1px 1px 1px 1px);clip: rect(1px, 1px, 1px, 1px);height: 1px;margin: -1px;overflow: hidden;padding: 0;position: absolute;width: 1px;}#sk-container-id-5 div.sk-estimator {font-family: monospace;background-color: #f0f8ff;border: 1px dotted black;border-radius: 0.25em;box-sizing: border-box;margin-bottom: 0.5em;}#sk-container-id-5 div.sk-estimator:hover {background-color: #d4ebff;}#sk-container-id-5 div.sk-parallel-item::after {content: \"\";width: 100%;border-bottom: 1px solid gray;flex-grow: 1;}#sk-container-id-5 div.sk-label:hover label.sk-toggleable__label {background-color: #d4ebff;}#sk-container-id-5 div.sk-serial::before {content: \"\";position: absolute;border-left: 1px solid gray;box-sizing: border-box;top: 0;bottom: 0;left: 50%;z-index: 0;}#sk-container-id-5 div.sk-serial {display: flex;flex-direction: column;align-items: center;background-color: white;padding-right: 0.2em;padding-left: 0.2em;position: relative;}#sk-container-id-5 div.sk-item {position: relative;z-index: 1;}#sk-container-id-5 div.sk-parallel {display: flex;align-items: stretch;justify-content: center;background-color: white;position: relative;}#sk-container-id-5 div.sk-item::before, #sk-container-id-5 div.sk-parallel-item::before {content: \"\";position: absolute;border-left: 1px solid gray;box-sizing: border-box;top: 0;bottom: 0;left: 50%;z-index: -1;}#sk-container-id-5 div.sk-parallel-item {display: flex;flex-direction: column;z-index: 1;position: relative;background-color: white;}#sk-container-id-5 div.sk-parallel-item:first-child::after {align-self: flex-end;width: 50%;}#sk-container-id-5 div.sk-parallel-item:last-child::after {align-self: flex-start;width: 50%;}#sk-container-id-5 div.sk-parallel-item:only-child::after {width: 0;}#sk-container-id-5 div.sk-dashed-wrapped {border: 1px dashed gray;margin: 0 0.4em 0.5em 0.4em;box-sizing: border-box;padding-bottom: 0.4em;background-color: white;}#sk-container-id-5 div.sk-label label {font-family: monospace;font-weight: bold;display: inline-block;line-height: 1.2em;}#sk-container-id-5 div.sk-label-container {text-align: center;}#sk-container-id-5 div.sk-container {/* jupyter's `normalize.less` sets `[hidden] { display: none; }` but bootstrap.min.css set `[hidden] { display: none !important; }` so we also need the `!important` here to be able to override the default hidden behavior on the sphinx rendered scikit-learn.org. See: https://github.com/scikit-learn/scikit-learn/issues/21755 */display: inline-block !important;position: relative;}#sk-container-id-5 div.sk-text-repr-fallback {display: none;}</style><div id=\"sk-container-id-5\" class=\"sk-top-container\"><div class=\"sk-text-repr-fallback\"><pre>DecisionTreeRegressor(random_state=42)</pre><b>In a Jupyter environment, please rerun this cell to show the HTML representation or trust the notebook. <br />On GitHub, the HTML representation is unable to render, please try loading this page with nbviewer.org.</b></div><div class=\"sk-container\" hidden><div class=\"sk-item\"><div class=\"sk-estimator sk-toggleable\"><input class=\"sk-toggleable__control sk-hidden--visually\" id=\"sk-estimator-id-5\" type=\"checkbox\" checked><label for=\"sk-estimator-id-5\" class=\"sk-toggleable__label sk-toggleable__label-arrow\">DecisionTreeRegressor</label><div class=\"sk-toggleable__content\"><pre>DecisionTreeRegressor(random_state=42)</pre></div></div></div></div></div>"
      ],
      "text/plain": [
       "DecisionTreeRegressor(random_state=42)"
      ]
     },
     "execution_count": 54,
     "metadata": {},
     "output_type": "execute_result"
    }
   ],
   "source": [
    "dt_model = DecisionTreeRegressor(random_state=42)\n",
    "dt_model.fit(x_train,y_train)"
   ]
  },
  {
   "cell_type": "code",
   "execution_count": 55,
   "id": "c335542b-e0b5-4bd4-ab76-0fe843077e5e",
   "metadata": {},
   "outputs": [],
   "source": [
    "dt_pred = dt_model.predict(x_test)"
   ]
  },
  {
   "cell_type": "code",
   "execution_count": 56,
   "id": "3c9b2db8-8e95-43d1-9ad1-c2a517d48630",
   "metadata": {},
   "outputs": [
    {
     "name": "stdout",
     "output_type": "stream",
     "text": [
      "\n",
      "Decision Tree Model Evaluation:\n",
      "Mean Squared Error: 4401105871.52\n",
      "R-squared: -0.23\n"
     ]
    }
   ],
   "source": [
    "# Evaluate the Decision Tree model\n",
    "dt_mse = mean_squared_error(y_test, dt_pred)\n",
    "dt_r2 = r2_score(y_test, dt_pred)\n",
    "\n",
    "print(\"\\nDecision Tree Model Evaluation:\")\n",
    "print(f\"Mean Squared Error: {dt_mse:.2f}\")\n",
    "print(f\"R-squared: {dt_r2:.2f}\")"
   ]
  },
  {
   "cell_type": "code",
   "execution_count": 57,
   "id": "931a8819-78c0-41fe-9070-fd27f7e6f84b",
   "metadata": {},
   "outputs": [
    {
     "name": "stdout",
     "output_type": "stream",
     "text": [
      "\n",
      "Actual vs Predicted Sale Prices:\n",
      "            Actual     Predicted\n",
      "2437  180921.19589  140000.00000\n",
      "2470  180921.19589  299800.00000\n",
      "2359  180921.19589  115000.00000\n",
      "789   187500.00000  171000.00000\n",
      "1642  180921.19589  235000.00000\n",
      "196   311872.00000  180921.19589\n",
      "1543  180921.19589  180921.19589\n",
      "1270  260000.00000  180921.19589\n",
      "2473  180921.19589   78000.00000\n",
      "2073  180921.19589  240000.00000\n"
     ]
    }
   ],
   "source": [
    "# Display the first 10 predicted vs actual values for the tuned model\n",
    "comparison_df = pd.DataFrame({'Actual': y_test, 'Predicted': dt_pred})\n",
    "print(\"\\nActual vs Predicted Sale Prices:\")\n",
    "print(comparison_df.head(10))"
   ]
  },
  {
   "cell_type": "code",
   "execution_count": 58,
   "id": "c10dab5e-22d5-4eae-b9c4-982bb4f6a903",
   "metadata": {},
   "outputs": [
    {
     "data": {
      "text/html": [
       "<style>#sk-container-id-6 {color: black;background-color: white;}#sk-container-id-6 pre{padding: 0;}#sk-container-id-6 div.sk-toggleable {background-color: white;}#sk-container-id-6 label.sk-toggleable__label {cursor: pointer;display: block;width: 100%;margin-bottom: 0;padding: 0.3em;box-sizing: border-box;text-align: center;}#sk-container-id-6 label.sk-toggleable__label-arrow:before {content: \"▸\";float: left;margin-right: 0.25em;color: #696969;}#sk-container-id-6 label.sk-toggleable__label-arrow:hover:before {color: black;}#sk-container-id-6 div.sk-estimator:hover label.sk-toggleable__label-arrow:before {color: black;}#sk-container-id-6 div.sk-toggleable__content {max-height: 0;max-width: 0;overflow: hidden;text-align: left;background-color: #f0f8ff;}#sk-container-id-6 div.sk-toggleable__content pre {margin: 0.2em;color: black;border-radius: 0.25em;background-color: #f0f8ff;}#sk-container-id-6 input.sk-toggleable__control:checked~div.sk-toggleable__content {max-height: 200px;max-width: 100%;overflow: auto;}#sk-container-id-6 input.sk-toggleable__control:checked~label.sk-toggleable__label-arrow:before {content: \"▾\";}#sk-container-id-6 div.sk-estimator input.sk-toggleable__control:checked~label.sk-toggleable__label {background-color: #d4ebff;}#sk-container-id-6 div.sk-label input.sk-toggleable__control:checked~label.sk-toggleable__label {background-color: #d4ebff;}#sk-container-id-6 input.sk-hidden--visually {border: 0;clip: rect(1px 1px 1px 1px);clip: rect(1px, 1px, 1px, 1px);height: 1px;margin: -1px;overflow: hidden;padding: 0;position: absolute;width: 1px;}#sk-container-id-6 div.sk-estimator {font-family: monospace;background-color: #f0f8ff;border: 1px dotted black;border-radius: 0.25em;box-sizing: border-box;margin-bottom: 0.5em;}#sk-container-id-6 div.sk-estimator:hover {background-color: #d4ebff;}#sk-container-id-6 div.sk-parallel-item::after {content: \"\";width: 100%;border-bottom: 1px solid gray;flex-grow: 1;}#sk-container-id-6 div.sk-label:hover label.sk-toggleable__label {background-color: #d4ebff;}#sk-container-id-6 div.sk-serial::before {content: \"\";position: absolute;border-left: 1px solid gray;box-sizing: border-box;top: 0;bottom: 0;left: 50%;z-index: 0;}#sk-container-id-6 div.sk-serial {display: flex;flex-direction: column;align-items: center;background-color: white;padding-right: 0.2em;padding-left: 0.2em;position: relative;}#sk-container-id-6 div.sk-item {position: relative;z-index: 1;}#sk-container-id-6 div.sk-parallel {display: flex;align-items: stretch;justify-content: center;background-color: white;position: relative;}#sk-container-id-6 div.sk-item::before, #sk-container-id-6 div.sk-parallel-item::before {content: \"\";position: absolute;border-left: 1px solid gray;box-sizing: border-box;top: 0;bottom: 0;left: 50%;z-index: -1;}#sk-container-id-6 div.sk-parallel-item {display: flex;flex-direction: column;z-index: 1;position: relative;background-color: white;}#sk-container-id-6 div.sk-parallel-item:first-child::after {align-self: flex-end;width: 50%;}#sk-container-id-6 div.sk-parallel-item:last-child::after {align-self: flex-start;width: 50%;}#sk-container-id-6 div.sk-parallel-item:only-child::after {width: 0;}#sk-container-id-6 div.sk-dashed-wrapped {border: 1px dashed gray;margin: 0 0.4em 0.5em 0.4em;box-sizing: border-box;padding-bottom: 0.4em;background-color: white;}#sk-container-id-6 div.sk-label label {font-family: monospace;font-weight: bold;display: inline-block;line-height: 1.2em;}#sk-container-id-6 div.sk-label-container {text-align: center;}#sk-container-id-6 div.sk-container {/* jupyter's `normalize.less` sets `[hidden] { display: none; }` but bootstrap.min.css set `[hidden] { display: none !important; }` so we also need the `!important` here to be able to override the default hidden behavior on the sphinx rendered scikit-learn.org. See: https://github.com/scikit-learn/scikit-learn/issues/21755 */display: inline-block !important;position: relative;}#sk-container-id-6 div.sk-text-repr-fallback {display: none;}</style><div id=\"sk-container-id-6\" class=\"sk-top-container\"><div class=\"sk-text-repr-fallback\"><pre>RandomForestRegressor(n_jobs=-1, random_state=42)</pre><b>In a Jupyter environment, please rerun this cell to show the HTML representation or trust the notebook. <br />On GitHub, the HTML representation is unable to render, please try loading this page with nbviewer.org.</b></div><div class=\"sk-container\" hidden><div class=\"sk-item\"><div class=\"sk-estimator sk-toggleable\"><input class=\"sk-toggleable__control sk-hidden--visually\" id=\"sk-estimator-id-6\" type=\"checkbox\" checked><label for=\"sk-estimator-id-6\" class=\"sk-toggleable__label sk-toggleable__label-arrow\">RandomForestRegressor</label><div class=\"sk-toggleable__content\"><pre>RandomForestRegressor(n_jobs=-1, random_state=42)</pre></div></div></div></div></div>"
      ],
      "text/plain": [
       "RandomForestRegressor(n_jobs=-1, random_state=42)"
      ]
     },
     "execution_count": 58,
     "metadata": {},
     "output_type": "execute_result"
    }
   ],
   "source": [
    "rf_model= RandomForestRegressor(random_state=42,n_jobs=-1)\n",
    "rf_model.fit(x_train,y_train)"
   ]
  },
  {
   "cell_type": "code",
   "execution_count": 59,
   "id": "664ff36a-d5ba-417f-b6da-681ec5b49c40",
   "metadata": {},
   "outputs": [],
   "source": [
    "rf_pred = rf_model.predict(x_test)"
   ]
  },
  {
   "cell_type": "code",
   "execution_count": 60,
   "id": "cdf71f84-7636-4cbd-adcf-50957bb719a6",
   "metadata": {},
   "outputs": [
    {
     "name": "stdout",
     "output_type": "stream",
     "text": [
      "\n",
      "Decision Tree Model Evaluation:\n",
      "Mean Squared Error: 2279227253.70\n",
      "R-squared: -0.23\n"
     ]
    }
   ],
   "source": [
    "rf_mse = mean_squared_error(y_test, rf_pred)\n",
    "rf_r2 = r2_score(y_test, dt_pred)\n",
    "\n",
    "print(\"\\nDecision Tree Model Evaluation:\")\n",
    "print(f\"Mean Squared Error: {rf_mse:.2f}\")\n",
    "print(f\"R-squared: {rf_r2:.2f}\")"
   ]
  },
  {
   "cell_type": "code",
   "execution_count": 61,
   "id": "27b731f5-e35e-496e-a11f-2cf106110bea",
   "metadata": {},
   "outputs": [
    {
     "name": "stdout",
     "output_type": "stream",
     "text": [
      "\n",
      "Actual vs Predicted Sale Prices:\n",
      "            Actual      Predicted\n",
      "2437  180921.19589  162391.293616\n",
      "2470  180921.19589  236196.739178\n",
      "2359  180921.19589  155958.630521\n",
      "789   187500.00000  172441.826192\n",
      "1642  180921.19589  235430.337014\n",
      "196   311872.00000  229684.431863\n",
      "1543  180921.19589  147292.114233\n",
      "1270  260000.00000  172126.266397\n",
      "2473  180921.19589  148052.505575\n",
      "2073  180921.19589  174221.462068\n"
     ]
    }
   ],
   "source": [
    "# Display the first 10 predicted vs actual values for the tuned model\n",
    "comparison_df = pd.DataFrame({'Actual': y_test, 'Predicted': rf_pred})\n",
    "print(\"\\nActual vs Predicted Sale Prices:\")\n",
    "print(comparison_df.head(10))"
   ]
  },
  {
   "cell_type": "code",
   "execution_count": null,
   "id": "20dababc-040c-4e61-9cdc-daeb053cff6f",
   "metadata": {},
   "outputs": [],
   "source": []
  },
  {
   "cell_type": "code",
   "execution_count": null,
   "id": "403c2a7b-77f5-4862-9998-430bcaf184b4",
   "metadata": {},
   "outputs": [],
   "source": []
  }
 ],
 "metadata": {
  "kernelspec": {
   "display_name": "Python 3 (ipykernel)",
   "language": "python",
   "name": "python3"
  },
  "language_info": {
   "codemirror_mode": {
    "name": "ipython",
    "version": 3
   },
   "file_extension": ".py",
   "mimetype": "text/x-python",
   "name": "python",
   "nbconvert_exporter": "python",
   "pygments_lexer": "ipython3",
   "version": "3.11.7"
  }
 },
 "nbformat": 4,
 "nbformat_minor": 5
}
